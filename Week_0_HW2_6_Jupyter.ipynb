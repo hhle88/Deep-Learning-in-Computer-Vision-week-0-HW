{
 "cells": [
  {
   "cell_type": "code",
   "execution_count": 3,
   "metadata": {},
   "outputs": [
    {
     "name": "stdout",
     "output_type": "stream",
     "text": [
      "Please insert first number:\n",
      "3\n",
      "Please insert second number:\n",
      "16\n",
      "The sum is: 20\n"
     ]
    }
   ],
   "source": [
    "# Week 0 - hw 2.6 - Jupyter\n",
    "\n",
    "# Problem:\n",
    "# Write a Python program to sum of two given integers. However, if the sum is between 15 to 20 it will return 20.\n",
    "\n",
    "# Solution:\n",
    "\n",
    "print('Please insert first number:')\n",
    "number1 = int(input())\n",
    "print('Please insert second number:')\n",
    "number2 = int(input())\n",
    "thesum = number1+number2\n",
    "if 15<=thesum<=20:\n",
    "    thesum = 20\n",
    "print('The sum is:',thesum)\n",
    "\n",
    "\n"
   ]
  },
  {
   "cell_type": "code",
   "execution_count": null,
   "metadata": {},
   "outputs": [],
   "source": []
  }
 ],
 "metadata": {
  "kernelspec": {
   "display_name": "Python 3",
   "language": "python",
   "name": "python3"
  },
  "language_info": {
   "codemirror_mode": {
    "name": "ipython",
    "version": 3
   },
   "file_extension": ".py",
   "mimetype": "text/x-python",
   "name": "python",
   "nbconvert_exporter": "python",
   "pygments_lexer": "ipython3",
   "version": "3.6.4"
  }
 },
 "nbformat": 4,
 "nbformat_minor": 2
}
