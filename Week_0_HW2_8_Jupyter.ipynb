{
 "cells": [
  {
   "cell_type": "code",
   "execution_count": 2,
   "metadata": {},
   "outputs": [
    {
     "name": "stdout",
     "output_type": "stream",
     "text": [
      "Please insert first number:\n",
      "100\n",
      "Please insert second number:\n",
      "56\n",
      "The Least common multiple LCM = 4\n"
     ]
    }
   ],
   "source": [
    "# Week 0 - hw 2.8 - Jupyter\n",
    "\n",
    "# Problem:\n",
    "# Write a Python program to get the least common multiple (LCM) of two positive integers.\n",
    "\n",
    "# Solution:\n",
    "\n",
    "print('Please insert first number:')\n",
    "number1 = int(input())\n",
    "print('Please insert second number:')\n",
    "number2 = int(input())\n",
    "\n",
    "while number1 != number2:\n",
    "    if number1 > number2:\n",
    "        number1 = number1-number2\n",
    "    else: \n",
    "        number2 = number2-number1\n",
    "        \n",
    "print('The least common multiple LCM =', number1)\n"
   ]
  },
  {
   "cell_type": "code",
   "execution_count": null,
   "metadata": {},
   "outputs": [],
   "source": []
  }
 ],
 "metadata": {
  "kernelspec": {
   "display_name": "Python 3",
   "language": "python",
   "name": "python3"
  },
  "language_info": {
   "codemirror_mode": {
    "name": "ipython",
    "version": 3
   },
   "file_extension": ".py",
   "mimetype": "text/x-python",
   "name": "python",
   "nbconvert_exporter": "python",
   "pygments_lexer": "ipython3",
   "version": "3.6.4"
  }
 },
 "nbformat": 4,
 "nbformat_minor": 2
}
