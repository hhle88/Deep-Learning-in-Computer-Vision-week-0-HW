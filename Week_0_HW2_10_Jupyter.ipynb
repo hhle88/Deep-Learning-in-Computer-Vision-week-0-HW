{
 "cells": [
  {
   "cell_type": "code",
   "execution_count": null,
   "metadata": {},
   "outputs": [],
   "source": [
    "# Week 0 - hw 2.10 - Jupyter\n",
    "\n",
    "# Problem:\n",
    "# Write a Python program to convert true to 1 and false to 0.\n",
    "\n",
    "# Solution:\n",
    "\n",
    "print('Please key \"TRUE\" or \"FALSE\"')\n",
    "char = input()\n",
    "if char == 'TRUE' or char == 'true':\n",
    "    dig = int(1)\n",
    "    print('digit =',dig)\n",
    "elif char == 'FALSE' or char == 'false':\n",
    "    digit = int(0)\n",
    "    print('digit =',dig)\n",
    "else:\n",
    "    print('the word is not TRUE or FALSE')\n",
    "        "
   ]
  },
  {
   "cell_type": "code",
   "execution_count": null,
   "metadata": {},
   "outputs": [],
   "source": []
  }
 ],
 "metadata": {
  "kernelspec": {
   "display_name": "Python 3",
   "language": "python",
   "name": "python3"
  },
  "language_info": {
   "codemirror_mode": {
    "name": "ipython",
    "version": 3
   },
   "file_extension": ".py",
   "mimetype": "text/x-python",
   "name": "python",
   "nbconvert_exporter": "python",
   "pygments_lexer": "ipython3",
   "version": "3.6.4"
  }
 },
 "nbformat": 4,
 "nbformat_minor": 2
}
