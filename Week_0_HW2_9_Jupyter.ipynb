{
 "cells": [
  {
   "cell_type": "code",
   "execution_count": 4,
   "metadata": {},
   "outputs": [
    {
     "name": "stdout",
     "output_type": "stream",
     "text": [
      "Consider x[x1,x2]\n",
      "x1 =\n",
      "2\n",
      "x2 =\n",
      "3\n",
      "Consider y[y1,y2]\n",
      "y1 =\n",
      "4\n",
      "y2 =\n",
      "5\n",
      "distance between x(2,3) and y(4,5) is: 2.8284271247461903\n"
     ]
    }
   ],
   "source": [
    "# Week 0 - hw 2.9 - Jupyter\n",
    "\n",
    "# Problem:\n",
    "# Write a Python program to compute the distance between the points (x1,x2) and (y1,y2)\n",
    "\n",
    "# Solution:\n",
    "\n",
    "import math\n",
    "\n",
    "print('Consider x[x1,x2]')\n",
    "print('x1 =')\n",
    "x1 = int(input())\n",
    "print('x2 =')\n",
    "x2 = int(input())\n",
    "print('Consider y[y1,y2]')\n",
    "print('y1 =')\n",
    "y1 = int(input())\n",
    "print('y2 =')\n",
    "y2 = int(input())\n",
    "\n",
    "dis = math.sqrt((y1-x1)**2+(y2-x2)**2)\n",
    "print('distance between x(', x1, ',', x2, ') and y(', y1, ',', y2, ') is: ', dis, sep='')\n"
   ]
  },
  {
   "cell_type": "code",
   "execution_count": null,
   "metadata": {},
   "outputs": [],
   "source": []
  }
 ],
 "metadata": {
  "kernelspec": {
   "display_name": "Python 3",
   "language": "python",
   "name": "python3"
  },
  "language_info": {
   "codemirror_mode": {
    "name": "ipython",
    "version": 3
   },
   "file_extension": ".py",
   "mimetype": "text/x-python",
   "name": "python",
   "nbconvert_exporter": "python",
   "pygments_lexer": "ipython3",
   "version": "3.6.4"
  }
 },
 "nbformat": 4,
 "nbformat_minor": 2
}
